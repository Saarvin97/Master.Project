{
 "cells": [
  {
   "cell_type": "code",
   "execution_count": 10,
   "id": "091f4ae3",
   "metadata": {},
   "outputs": [],
   "source": [
    "import pandas as pd\n",
    "import numpy as np"
   ]
  },
  {
   "cell_type": "code",
   "execution_count": 2,
   "id": "1d562bd2",
   "metadata": {},
   "outputs": [],
   "source": [
    "df4 = pd.read_csv('Cleaned Data_2.csv')"
   ]
  },
  {
   "cell_type": "code",
   "execution_count": 3,
   "id": "0a1ef8af",
   "metadata": {},
   "outputs": [
    {
     "data": {
      "text/html": [
       "<div>\n",
       "<style scoped>\n",
       "    .dataframe tbody tr th:only-of-type {\n",
       "        vertical-align: middle;\n",
       "    }\n",
       "\n",
       "    .dataframe tbody tr th {\n",
       "        vertical-align: top;\n",
       "    }\n",
       "\n",
       "    .dataframe thead th {\n",
       "        text-align: right;\n",
       "    }\n",
       "</style>\n",
       "<table border=\"1\" class=\"dataframe\">\n",
       "  <thead>\n",
       "    <tr style=\"text-align: right;\">\n",
       "      <th></th>\n",
       "      <th>Continent</th>\n",
       "      <th>Country</th>\n",
       "      <th>Year</th>\n",
       "      <th>Gender</th>\n",
       "      <th>Age_group</th>\n",
       "      <th>Suicide_count</th>\n",
       "      <th>Population</th>\n",
       "      <th>Suicide_rate</th>\n",
       "      <th>GDP_for_year</th>\n",
       "      <th>GDP_per_capita</th>\n",
       "      <th>Generation</th>\n",
       "    </tr>\n",
       "  </thead>\n",
       "  <tbody>\n",
       "    <tr>\n",
       "      <th>0</th>\n",
       "      <td>3</td>\n",
       "      <td>2</td>\n",
       "      <td>2016-01-01</td>\n",
       "      <td>1</td>\n",
       "      <td>5</td>\n",
       "      <td>-0.147059</td>\n",
       "      <td>-0.278482</td>\n",
       "      <td>16.930650</td>\n",
       "      <td>-0.268768</td>\n",
       "      <td>-0.358812</td>\n",
       "      <td>4</td>\n",
       "    </tr>\n",
       "    <tr>\n",
       "      <th>1</th>\n",
       "      <td>3</td>\n",
       "      <td>2</td>\n",
       "      <td>2016-01-01</td>\n",
       "      <td>1</td>\n",
       "      <td>4</td>\n",
       "      <td>-0.117647</td>\n",
       "      <td>-0.272644</td>\n",
       "      <td>5.632577</td>\n",
       "      <td>-0.268768</td>\n",
       "      <td>-0.358812</td>\n",
       "      <td>0</td>\n",
       "    </tr>\n",
       "    <tr>\n",
       "      <th>2</th>\n",
       "      <td>3</td>\n",
       "      <td>2</td>\n",
       "      <td>2016-01-01</td>\n",
       "      <td>1</td>\n",
       "      <td>2</td>\n",
       "      <td>-0.117647</td>\n",
       "      <td>-0.268900</td>\n",
       "      <td>3.692955</td>\n",
       "      <td>-0.268768</td>\n",
       "      <td>-0.358812</td>\n",
       "      <td>2</td>\n",
       "    </tr>\n",
       "    <tr>\n",
       "      <th>3</th>\n",
       "      <td>3</td>\n",
       "      <td>2</td>\n",
       "      <td>2016-01-01</td>\n",
       "      <td>1</td>\n",
       "      <td>0</td>\n",
       "      <td>-0.198529</td>\n",
       "      <td>-0.273826</td>\n",
       "      <td>1.824840</td>\n",
       "      <td>-0.268768</td>\n",
       "      <td>-0.358812</td>\n",
       "      <td>3</td>\n",
       "    </tr>\n",
       "    <tr>\n",
       "      <th>4</th>\n",
       "      <td>3</td>\n",
       "      <td>2</td>\n",
       "      <td>2016-01-01</td>\n",
       "      <td>0</td>\n",
       "      <td>5</td>\n",
       "      <td>-0.220588</td>\n",
       "      <td>-0.277139</td>\n",
       "      <td>1.360046</td>\n",
       "      <td>-0.268768</td>\n",
       "      <td>-0.358812</td>\n",
       "      <td>4</td>\n",
       "    </tr>\n",
       "  </tbody>\n",
       "</table>\n",
       "</div>"
      ],
      "text/plain": [
       "   Continent  Country        Year  Gender  Age_group  Suicide_count  \\\n",
       "0          3        2  2016-01-01       1          5      -0.147059   \n",
       "1          3        2  2016-01-01       1          4      -0.117647   \n",
       "2          3        2  2016-01-01       1          2      -0.117647   \n",
       "3          3        2  2016-01-01       1          0      -0.198529   \n",
       "4          3        2  2016-01-01       0          5      -0.220588   \n",
       "\n",
       "   Population  Suicide_rate  GDP_for_year  GDP_per_capita  Generation  \n",
       "0   -0.278482     16.930650     -0.268768       -0.358812           4  \n",
       "1   -0.272644      5.632577     -0.268768       -0.358812           0  \n",
       "2   -0.268900      3.692955     -0.268768       -0.358812           2  \n",
       "3   -0.273826      1.824840     -0.268768       -0.358812           3  \n",
       "4   -0.277139      1.360046     -0.268768       -0.358812           4  "
      ]
     },
     "execution_count": 3,
     "metadata": {},
     "output_type": "execute_result"
    }
   ],
   "source": [
    "df4.head()"
   ]
  },
  {
   "cell_type": "code",
   "execution_count": 7,
   "id": "f206c6bd",
   "metadata": {},
   "outputs": [
    {
     "data": {
      "text/plain": [
       "array(['2016-01-01T00:00:00.000000000', '2020-01-01T00:00:00.000000000',\n",
       "       '2019-01-01T00:00:00.000000000', '2018-01-01T00:00:00.000000000',\n",
       "       '2017-01-01T00:00:00.000000000'], dtype='datetime64[ns]')"
      ]
     },
     "execution_count": 7,
     "metadata": {},
     "output_type": "execute_result"
    }
   ],
   "source": [
    "Year = df4.Year.unique()\n",
    "Year"
   ]
  },
  {
   "cell_type": "code",
   "execution_count": 4,
   "id": "a5611084",
   "metadata": {},
   "outputs": [],
   "source": [
    "from sklearn.ensemble import RandomForestRegressor\n",
    "from sklearn.metrics import mean_absolute_error\n",
    "from sklearn.model_selection import TimeSeriesSplit"
   ]
  },
  {
   "cell_type": "code",
   "execution_count": 5,
   "id": "6946649f",
   "metadata": {},
   "outputs": [
    {
     "name": "stdout",
     "output_type": "stream",
     "text": [
      "Train set shape: (1936, 9) (1936,)\n",
      "Test set shape: (960, 9) (960,)\n"
     ]
    }
   ],
   "source": [
    "from sklearn.model_selection import train_test_split\n",
    "\n",
    "#Convert period column to DateTimeIndex if needed\n",
    "df4['Year'] = pd.to_datetime(df4['Year']) \n",
    "#Set the cutoff date\n",
    "cutoff_date = pd.to_datetime('2019-01-01')  \n",
    "\n",
    "#Splitting data into train and test sets based on the period\n",
    "train_data = df4[df4['Year'] < cutoff_date]  # Filter rows before the cutoff period for train set\n",
    "test_data = df4[df4['Year'] >= cutoff_date]  # Filter rows on or after the cutoff period for test set\n",
    "\n",
    "#Separate the features (X) and target variable (y) for train and test sets\n",
    "X_train = train_data[train_data['Year'] < 2020].drop(columns=['Suicide_rate', 'Year'])\n",
    "y_train = train_data['Suicide_rate']\n",
    "X_test = test_data.drop(columns=['Suicide_rate', 'Year'])\n",
    "y_test = test_data['Suicide_rate']\n",
    "\n",
    "#Print the shapes of train and test sets to verify the split\n",
    "print('Train set shape:', X_train.shape, y_train.shape)\n",
    "print('Test set shape:', X_test.shape, y_test.shape)"
   ]
  },
  {
   "cell_type": "code",
   "execution_count": 6,
   "id": "f71695bd",
   "metadata": {},
   "outputs": [],
   "source": [
    "from sklearn.metrics import mean_absolute_error\n",
    "\n",
    "def performRandomForestRegression(X_train, y_train, X_test, y_test, parameters):\n",
    "    \"\"\"\n",
    "    Perform the regression task using a Random Forest Regressor.\n",
    "    Replace this function with your specific regression algorithm or method.\n",
    "    \"\"\"\n",
    "    regressor = RandomForestRegressor(**parameters)\n",
    "    regressor.fit(X_train, y_train)\n",
    "    predictions = regressor.predict(X_test)\n",
    "\n",
    "    return mean_absolute_error(y_test, predictions)"
   ]
  },
  {
   "cell_type": "code",
   "execution_count": 12,
   "id": "2eab09d9",
   "metadata": {},
   "outputs": [
    {
     "ename": "NameError",
     "evalue": "name 'regressor' is not defined",
     "output_type": "error",
     "traceback": [
      "\u001b[0;31m---------------------------------------------------------------------------\u001b[0m",
      "\u001b[0;31mNameError\u001b[0m                                 Traceback (most recent call last)",
      "\u001b[0;32m/var/folders/c_/lslz_d8d7zb53l448tlccck40000gn/T/ipykernel_5824/938670134.py\u001b[0m in \u001b[0;36m<module>\u001b[0;34m\u001b[0m\n\u001b[0;32m----> 1\u001b[0;31m \u001b[0mregressor\u001b[0m\u001b[0;34m.\u001b[0m\u001b[0mfit\u001b[0m\u001b[0;34m(\u001b[0m\u001b[0mX_train\u001b[0m\u001b[0;34m,\u001b[0m \u001b[0my_train\u001b[0m\u001b[0;34m)\u001b[0m\u001b[0;34m\u001b[0m\u001b[0;34m\u001b[0m\u001b[0m\n\u001b[0m",
      "\u001b[0;31mNameError\u001b[0m: name 'regressor' is not defined"
     ]
    }
   ],
   "source": []
  },
  {
   "cell_type": "code",
   "execution_count": null,
   "id": "5ee9a70a",
   "metadata": {},
   "outputs": [],
   "source": []
  }
 ],
 "metadata": {
  "kernelspec": {
   "display_name": "Python 3 (ipykernel)",
   "language": "python",
   "name": "python3"
  },
  "language_info": {
   "codemirror_mode": {
    "name": "ipython",
    "version": 3
   },
   "file_extension": ".py",
   "mimetype": "text/x-python",
   "name": "python",
   "nbconvert_exporter": "python",
   "pygments_lexer": "ipython3",
   "version": "3.9.7"
  }
 },
 "nbformat": 4,
 "nbformat_minor": 5
}
